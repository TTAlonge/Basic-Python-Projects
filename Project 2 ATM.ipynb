{
 "cells": [
  {
   "cell_type": "code",
   "execution_count": 3,
   "id": "d6445af7",
   "metadata": {},
   "outputs": [
    {
     "name": "stdout",
     "output_type": "stream",
     "text": [
      "\n",
      "What would like to do today?\n",
      "Enter:\n",
      "1 to check balance\n",
      "2 to make deposit\n",
      "3 to make withdrawl\n",
      "4 to quit\n",
      "\n",
      "\n",
      "What would you like to do today 1\n",
      "Your balance is 1000\n",
      "What would you like to do today 2\n",
      "You have selected the option to deposit\n",
      "How much would you like to deposit 1000\n",
      "Your new balance after deposit of 1000.0 is 2000.0\n",
      "What would you like to do today 3\n",
      "You have  selected the option to withdraw\n",
      "How much would you like to withdraw 3000\n",
      "Insufficient funds, try a lower amount you broke dude\n",
      "What would you like to do today 3\n",
      "You have  selected the option to withdraw\n",
      "How much would you like to withdraw 1500\n",
      "Please take your cash\n",
      "Your new balance after withdrawal of 1500.0 is 500.0\n",
      "What would you like to do today 4\n",
      "Thank you for banking with Tim Bank\n"
     ]
    }
   ],
   "source": [
    "#Note you use 3 quotations if u're printing on different lines\n",
    "print('''\n",
    "What would like to do today?\n",
    "Enter:\n",
    "1 to check balance\n",
    "2 to make deposit\n",
    "3 to make withdrawl\n",
    "4 to quit\n",
    "\n",
    "''')\n",
    "balance = 1000\n",
    "\n",
    "while True:\n",
    "    choice = int(input(\"What would you like to do today \"))\n",
    "    if choice == 1:\n",
    "        print(f\"Your balance is {balance}\")\n",
    "    elif choice == 2:\n",
    "        print(\"You have selected the option to deposit\")\n",
    "        deposit = float(input(\"How much would you like to deposit \"))\n",
    "        balance += deposit\n",
    "        print(f\"Your new balance after deposit of {deposit} is {balance}\")\n",
    "    elif choice == 3:\n",
    "        print(\"You have  selected the option to withdraw\")\n",
    "        withdraw = float(input(\"How much would you like to withdraw \"))\n",
    "        if withdraw > balance:\n",
    "            print(\"Insufficient funds, try a lower amount you broke dude\")\n",
    "        else:\n",
    "            print(\"Please take your cash\")\n",
    "            balance -= withdraw\n",
    "            print(f\"Your new balance after withdrawal of {withdraw} is {balance}\")\n",
    "    elif choice == 4:\n",
    "        print(\"Thank you for banking with Tim Bank\")\n",
    "        break\n",
    "    else:\n",
    "        print(\"Mumu: Enter between 1 - 4\")"
   ]
  },
  {
   "cell_type": "code",
   "execution_count": null,
   "id": "fa6fe6e5",
   "metadata": {},
   "outputs": [],
   "source": []
  }
 ],
 "metadata": {
  "kernelspec": {
   "display_name": "Python 3 (ipykernel)",
   "language": "python",
   "name": "python3"
  },
  "language_info": {
   "codemirror_mode": {
    "name": "ipython",
    "version": 3
   },
   "file_extension": ".py",
   "mimetype": "text/x-python",
   "name": "python",
   "nbconvert_exporter": "python",
   "pygments_lexer": "ipython3",
   "version": "3.11.5"
  }
 },
 "nbformat": 4,
 "nbformat_minor": 5
}
