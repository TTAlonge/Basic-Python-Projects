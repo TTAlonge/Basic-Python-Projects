{
 "cells": [
  {
   "cell_type": "code",
   "execution_count": 1,
   "id": "b1f5b077",
   "metadata": {},
   "outputs": [
    {
     "name": "stdout",
     "output_type": "stream",
     "text": [
      "Enter your monthly income: 150000\n",
      "How many expenses will you like to record?: 2\n",
      "Enter what you spent money on: Rent\n",
      "How much did you spend on the expenses? 20000\n",
      "Enter what you spent money on: Food\n",
      "How much did you spend on the expenses? 30000\n"
     ]
    }
   ],
   "source": [
    "Monthly_income = float(input(\"Enter your monthly income: \"))\n",
    "Expenses_no = int(input(\"How many expenses will you like to record?: \"))\n",
    "\n",
    "total_spent = 0\n",
    "while Expenses_no > 0:\n",
    "    item = input(\"Enter what you spent money on: \")\n",
    "    expenses = float(input(\"How much did you spend on the expenses? \"))\n",
    "    Expenses_no = Expenses_no - 1 #(That is n = n - 1 as thaught earlier in 'class work')\n",
    "    print({item})\n"
   ]
  },
  {
   "cell_type": "code",
   "execution_count": 3,
   "id": "8e345bbd",
   "metadata": {},
   "outputs": [
    {
     "name": "stdout",
     "output_type": "stream",
     "text": [
      "Enter your monthly income: 150000\n",
      "How many expenses will you like to record?: 2\n",
      "Enter what you spent money on: Rent\n",
      "How much did you spend on the expenses? 30000\n",
      "Enter what you spent money on: Food\n",
      "How much did you spend on the expenses? 20000\n",
      "Total Amount Spent = 50000.0\n"
     ]
    }
   ],
   "source": [
    "Monthly_income = float(input(\"Enter your monthly income: \"))\n",
    "Expenses_no = int(input(\"How many expenses will you like to record?: \"))\n",
    "\n",
    "total_amount = 0\n",
    "while Expenses_no > 0:\n",
    "    item = input(\"Enter what you spent money on: \")\n",
    "    expenses = float(input(\"How much did you spend on the expenses? \"))\n",
    "    Expenses_no = Expenses_no - 1\n",
    "    total_amount = total_amount + expenses\n",
    "    \n",
    "print(f\"Total Amount Spent = {total_amount}\")"
   ]
  },
  {
   "cell_type": "code",
   "execution_count": 10,
   "id": "c9124865",
   "metadata": {},
   "outputs": [
    {
     "name": "stdout",
     "output_type": "stream",
     "text": [
      "Enter your monthly income: 200000\n",
      "How many expenses will you like to record?: 3\n",
      "Enter what you spent money on: Food\n",
      "How much did you spend on the expenses? 30000\n",
      "Enter what you spent money on: Rent\n",
      "How much did you spend on the expenses? 20000\n",
      "Enter what you spent money on: GF\n",
      "How much did you spend on the expenses? 25000\n",
      "Budget Summary:\n",
      "Income = 200000.0\n",
      "Expenses = 75000.0\n",
      "Remaining balance = 125000.0\n"
     ]
    }
   ],
   "source": [
    "Monthly_income = float(input(\"Enter your monthly income: \"))\n",
    "Expenses_no = int(input(\"How many expenses will you like to record?: \"))\n",
    "\n",
    "total_amount = 0\n",
    "while Expenses_no > 0:\n",
    "    item = input(\"Enter what you spent money on: \")\n",
    "    expenses = float(input(\"How much did you spend on the expenses? \"))\n",
    "    Expenses_no = Expenses_no - 1\n",
    "    total_amount = total_amount + expenses\n",
    "    \n",
    "    #Subtract the total expenses from the monthly income to determine the remaining balance\n",
    "    Remaining_balance = Monthly_income - total_amount\n",
    "    \n",
    "    #Print Statements - Include the user's income, a list of entered expenses, total expenses, and the remaining balance.\n",
    "        \n",
    "#print\n",
    "print(\"Budget Summary:\")\n",
    "print(f\"Income = {Monthly_income}\")\n",
    "print(f\"Expenses = {total_amount}\")\n",
    "print(f\"Remaining balance = {Remaining_balance}\")\n"
   ]
  },
  {
   "cell_type": "code",
   "execution_count": null,
   "id": "40bf8857",
   "metadata": {},
   "outputs": [],
   "source": []
  }
 ],
 "metadata": {
  "kernelspec": {
   "display_name": "Python 3 (ipykernel)",
   "language": "python",
   "name": "python3"
  },
  "language_info": {
   "codemirror_mode": {
    "name": "ipython",
    "version": 3
   },
   "file_extension": ".py",
   "mimetype": "text/x-python",
   "name": "python",
   "nbconvert_exporter": "python",
   "pygments_lexer": "ipython3",
   "version": "3.11.5"
  }
 },
 "nbformat": 4,
 "nbformat_minor": 5
}
